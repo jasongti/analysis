{
 "cells": [
  {
   "cell_type": "code",
   "execution_count": 62,
   "metadata": {},
   "outputs": [],
   "source": [
    "# coding:utf8\n",
    "import numpy as np"
   ]
  },
  {
   "cell_type": "code",
   "execution_count": 63,
   "metadata": {},
   "outputs": [
    {
     "data": {
      "text/plain": [
       "array([5.1, 4.9, 4.7, 4.6, 5. , 5.4, 4.6, 5. , 4.4, 4.9, 5.4, 4.8, 4.8,\n",
       "       4.3, 5.8, 5.7, 5.4, 5.1, 5.7, 5.1, 5.4, 5.1, 4.6, 5.1, 4.8, 5. ,\n",
       "       5. , 5.2, 5.2, 4.7, 4.8, 5.4, 5.2, 5.5, 4.9, 5. , 5.5, 4.9, 4.4,\n",
       "       5.1, 5. , 4.5, 4.4, 5. , 5.1, 4.8, 5.1, 4.6, 5.3, 5. , 7. , 6.4,\n",
       "       6.9, 5.5, 6.5, 5.7, 6.3, 4.9, 6.6, 5.2, 5. , 5.9, 6. , 6.1, 5.6,\n",
       "       6.7, 5.6, 5.8, 6.2, 5.6, 5.9, 6.1, 6.3, 6.1, 6.4, 6.6, 6.8, 6.7,\n",
       "       6. , 5.7, 5.5, 5.5, 5.8, 6. , 5.4, 6. , 6.7, 6.3, 5.6, 5.5, 5.5,\n",
       "       6.1, 5.8, 5. , 5.6, 5.7, 5.7, 6.2, 5.1, 5.7, 6.3, 5.8, 7.1, 6.3,\n",
       "       6.5, 7.6, 4.9, 7.3, 6.7, 7.2, 6.5, 6.4, 6.8, 5.7, 5.8, 6.4, 6.5,\n",
       "       7.7, 7.7, 6. , 6.9, 5.6, 7.7, 6.3, 6.7, 7.2, 6.2, 6.1, 6.4, 7.2,\n",
       "       7.4, 7.9, 6.4, 6.3, 6.1, 7.7, 6.3, 6.4, 6. , 6.9, 6.7, 6.9, 5.8,\n",
       "       6.8, 6.7, 6.7, 6.3, 6.5, 6.2, 5.9])"
      ]
     },
     "execution_count": 63,
     "metadata": {},
     "output_type": "execute_result"
    }
   ],
   "source": [
    "'''\n",
    "https://crossincode.com/vip/homework/210/\n",
    "\n",
    "任务1：利用 numpy 读取 csv 文件数据，命名为 iris，并以 ndarry 形式展示出来（阅读参考文章①）\n",
    "\n",
    "https://blog.csdn.net/u012413551/article/details/87890989\n",
    "-- str 参数，字符串处理 (默认情况下，数据被认为是float类型)\n",
    "-- skiprows = 1  跳过首行 \n",
    "-- usecols参数介绍一个元组，元组里面用列索引来指定输入特定的列。\n",
    "-- -- usecols = (0,2) 第一、第二、第三列\n",
    "-- -- 指定顺序：\n",
    "\n",
    "'''\n",
    "with open(\"iris.csv\", encoding = 'utf-8') as f:\n",
    "    data = np.loadtxt(f,delimiter = \",\")\n",
    "data"
   ]
  },
  {
   "cell_type": "code",
   "execution_count": 64,
   "metadata": {},
   "outputs": [],
   "source": [
    "'''\n",
    "任务2  找出原数据中最小值和最大值出现的位置（任务提示：numpy 中 argmax 和 argmin 函数可以定位到最大值和最小值的索引位置。阅读参考文章②）\n",
    "https://blog.csdn.net/lanchunhui/article/details/50044417\n",
    "'''\n",
    "max_index = np.argmax(data)\n",
    "min_index = np.argmin(data)"
   ]
  },
  {
   "cell_type": "code",
   "execution_count": 65,
   "metadata": {},
   "outputs": [],
   "source": [
    "'''\n",
    "任务3：利用 numpy 找出花萼最小值与最大值（阅读参考文章②）\n",
    "'''\n",
    "max_value = max(data)\n",
    "min_value = min(data)\n",
    "# max_value = data.max()\n",
    "# min_value = data.min()"
   ]
  },
  {
   "cell_type": "code",
   "execution_count": 66,
   "metadata": {},
   "outputs": [
    {
     "data": {
      "text/plain": [
       "array([4.3, 4.4, 4.4, 4.4, 4.5, 4.6, 4.6, 4.6, 4.6, 4.7, 4.7, 4.8, 4.8,\n",
       "       4.8, 4.8, 4.8, 4.9, 4.9, 4.9, 4.9, 4.9, 4.9, 5. , 5. , 5. , 5. ,\n",
       "       5. , 5. , 5. , 5. , 5. , 5. , 5.1, 5.1, 5.1, 5.1, 5.1, 5.1, 5.1,\n",
       "       5.1, 5.1, 5.2, 5.2, 5.2, 5.2, 5.3, 5.4, 5.4, 5.4, 5.4, 5.4, 5.4,\n",
       "       5.5, 5.5, 5.5, 5.5, 5.5, 5.5, 5.5, 5.6, 5.6, 5.6, 5.6, 5.6, 5.6,\n",
       "       5.7, 5.7, 5.7, 5.7, 5.7, 5.7, 5.7, 5.7, 5.8, 5.8, 5.8, 5.8, 5.8,\n",
       "       5.8, 5.8, 5.9, 5.9, 5.9, 6. , 6. , 6. , 6. , 6. , 6. , 6.1, 6.1,\n",
       "       6.1, 6.1, 6.1, 6.1, 6.2, 6.2, 6.2, 6.2, 6.3, 6.3, 6.3, 6.3, 6.3,\n",
       "       6.3, 6.3, 6.3, 6.3, 6.4, 6.4, 6.4, 6.4, 6.4, 6.4, 6.4, 6.5, 6.5,\n",
       "       6.5, 6.5, 6.5, 6.6, 6.6, 6.7, 6.7, 6.7, 6.7, 6.7, 6.7, 6.7, 6.7,\n",
       "       6.8, 6.8, 6.8, 6.9, 6.9, 6.9, 6.9, 7. , 7.1, 7.2, 7.2, 7.2, 7.3,\n",
       "       7.4, 7.6, 7.7, 7.7, 7.7, 7.7, 7.9])"
      ]
     },
     "execution_count": 66,
     "metadata": {},
     "output_type": "execute_result"
    }
   ],
   "source": [
    "'''\n",
    "任务4：将 iris 原数据进行从小到大排序，并以 ndarray 形式展示出来\n",
    "（任务提示：排序函数为 sort。阅读参考文章③）\n",
    "https://www.jb51.net/article/52730.htm\n",
    "'''\n",
    "data.sort()\n",
    "data"
   ]
  },
  {
   "cell_type": "code",
   "execution_count": 67,
   "metadata": {},
   "outputs": [
    {
     "data": {
      "text/plain": [
       "array([4.3, 4.4, 4.5, 4.6, 4.7, 4.8, 4.9, 5. , 5.1, 5.2, 5.3, 5.4, 5.5,\n",
       "       5.6, 5.7, 5.8, 5.9, 6. , 6.1, 6.2, 6.3, 6.4, 6.5, 6.6, 6.7, 6.8,\n",
       "       6.9, 7. , 7.1, 7.2, 7.3, 7.4, 7.6, 7.7, 7.9])"
      ]
     },
     "execution_count": 67,
     "metadata": {},
     "output_type": "execute_result"
    }
   ],
   "source": [
    "'''\n",
    "任务5 去除该组数据中的重复值（任务提示：去重函数为 np.unique()。阅读参考文章④）\n",
    "https://blog.csdn.net/yangyuwen_yang/article/details/79193770\n",
    "'''\n",
    "# 对于一维数组或者列表，unique函数去除其中重复的元素，并按元素由大到小返回一个新的无元素重复的元组\n",
    "\n",
    "# c,s=np.unique(b,return_index=True) \n",
    "# return_index=True表示返回新列表元素在旧列表中的位置，并以列表形式储存在s中。\n",
    "# print(c)\n",
    "# print(s)\n",
    "\n",
    "# a,s,p = np.unique(A, return_index=True, return_inverse=True)\n",
    "# return_inverse=True 表示返回旧列表元素在新列表中的位置，并以列表形式储存在p中\n",
    "# c,s,p = np.unique(iris,return_index=True,return_inverse=True )\n",
    "\n",
    "data_new = np.unique(data)\n",
    "data_new"
   ]
  },
  {
   "cell_type": "code",
   "execution_count": 68,
   "metadata": {},
   "outputs": [
    {
     "data": {
      "text/plain": [
       "5.843333333333334"
      ]
     },
     "execution_count": 68,
     "metadata": {},
     "output_type": "execute_result"
    }
   ],
   "source": [
    "'''\n",
    "任务6：请利用 numpy 计算出该组花萼的平均长度（任务提示：平均函数为 np.mean()。阅读参考文章⑤）\n",
    "https://blog.csdn.net/andybegin/article/details/84033216\n",
    "'''\n",
    "\n",
    "# mean_value = data.mean()\n",
    "mean_value = np.mean(data)\n",
    "mean_value"
   ]
  },
  {
   "cell_type": "code",
   "execution_count": 69,
   "metadata": {},
   "outputs": [
    {
     "data": {
      "text/plain": [
       "0.8253012917851409"
      ]
     },
     "execution_count": 69,
     "metadata": {},
     "output_type": "execute_result"
    }
   ],
   "source": [
    "'''\n",
    "任务7：用numpy计算出该组数据的标准差和方差，并得出相关结论（任务提示：标准差可以衡量数据的波动性。阅读参考文章⑥）\n",
    "https://blog.csdn.net/Dawn510/article/details/89336650\n",
    "'''\n",
    "\n",
    "# 定义实现\n",
    "# mean_list = np.array([round(mean_value,2)]*len(data))\n",
    "# var = np.sum(np.square(data-mean_list))/len(data)\n",
    "# std = np.sqrt(var)\n",
    "\n",
    "np.var(data)\n",
    "np.std(data)"
   ]
  },
  {
   "cell_type": "code",
   "execution_count": 70,
   "metadata": {},
   "outputs": [
    {
     "data": {
      "text/plain": [
       "876.5"
      ]
     },
     "execution_count": 70,
     "metadata": {},
     "output_type": "execute_result"
    }
   ],
   "source": [
    "'''\n",
    "任务8：求出所有花瓣累积总和（阅读参考文章⑦）\n",
    "https://blog.csdn.net/wangxiao7474/article/details/78867390\n",
    "sum() 没有axis参数表示全部数据相加\n",
    "axis=0，表示按列相加\n",
    "axis=1，表示按行相加\n",
    "'''\n",
    "\n",
    "np.sum(data)"
   ]
  },
  {
   "cell_type": "code",
   "execution_count": 71,
   "metadata": {},
   "outputs": [
    {
     "data": {
      "text/plain": [
       "array([  4.3,   8.7,  13.2,  17.8,  22.5,  27.3,  32.2,  37.2,  42.3,\n",
       "        47.5,  52.8,  58.2,  63.7,  69.3,  75. ,  80.8,  86.7,  92.7,\n",
       "        98.8, 105. , 111.3, 117.7, 124.2, 130.8, 137.5, 144.3, 151.2,\n",
       "       158.2, 165.3, 172.5, 179.8, 187.2, 194.8, 202.5, 210.4])"
      ]
     },
     "execution_count": 71,
     "metadata": {},
     "output_type": "execute_result"
    }
   ],
   "source": [
    "'''\n",
    "任务9：对已排序的 iris 数据进行累积求和运算\n",
    "（任务提示：累积求和与求和有区别，累积求和是前几个数相加成新的元素从而组成新的数组。阅读参考文章⑧⑨）\n",
    "\n",
    "https://blog.csdn.net/weixin_43486780/article/details/104692759\n",
    "\n",
    "语法：numpy.cumsum(a, axis=None, dtype=None, out=None)\n",
    "numpy中的cumsum函数按指定轴累加求和，返回中间结果组成的数组，在求累积分布时用到，这里是一维所以并没有指定轴\n",
    "'''\n",
    "\n",
    "np.cumsum(data_new)"
   ]
  },
  {
   "cell_type": "code",
   "execution_count": 72,
   "metadata": {},
   "outputs": [
    {
     "data": {
      "text/plain": [
       "70"
      ]
     },
     "execution_count": 72,
     "metadata": {},
     "output_type": "execute_result"
    }
   ],
   "source": [
    "'''\n",
    "任务10：统计花萼长度比平均值 5.84 高的有多少（任务提示：例如 (arr>1).sum() 可统计大于1的个数）\n",
    "'''\n",
    "\n",
    "(data>mean_value).sum()"
   ]
  }
 ],
 "metadata": {
  "kernelspec": {
   "display_name": "Python 3",
   "language": "python",
   "name": "python3"
  },
  "language_info": {
   "codemirror_mode": {
    "name": "ipython",
    "version": 3
   },
   "file_extension": ".py",
   "mimetype": "text/x-python",
   "name": "python",
   "nbconvert_exporter": "python",
   "pygments_lexer": "ipython3",
   "version": "3.7.4"
  }
 },
 "nbformat": 4,
 "nbformat_minor": 2
}
